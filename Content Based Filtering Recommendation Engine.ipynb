{
 "cells": [
  {
   "cell_type": "markdown",
   "metadata": {},
   "source": [
    "In this notebook, I will build two movie content based filtering recommendation engines: One of them is based on the movie description and tagline, the other is based on more details about the movie including genres, director, actors and keywords. (Below you can click the link to each engine)\n",
    "\n",
    "* [1. Movie Description and Tagline Based Recommender ](#part_2)\n",
    "   \n",
    "* [2. Genres, Director, Actors and Keywords Based Recommender ](#part_3)\n",
    "\n",
    "(All the dataset can be found here: https://grouplens.org/datasets/movielens/)"
   ]
  },
  {
   "cell_type": "code",
   "execution_count": 2,
   "metadata": {},
   "outputs": [],
   "source": [
    "# import libraries\n",
    "import pandas as pd\n",
    "import numpy as np\n",
    "import matplotlib.pyplot as plt\n",
    "%matplotlib inline\n",
    "import seaborn as sns\n",
    "import os\n",
    "import datetime as dt\n",
    "import warnings  \n",
    "warnings.filterwarnings('ignore')\n",
    "import ast"
   ]
  },
  {
   "cell_type": "code",
   "execution_count": 2,
   "metadata": {
    "scrolled": false
   },
   "outputs": [
    {
     "data": {
      "text/html": [
       "<div>\n",
       "<style scoped>\n",
       "    .dataframe tbody tr th:only-of-type {\n",
       "        vertical-align: middle;\n",
       "    }\n",
       "\n",
       "    .dataframe tbody tr th {\n",
       "        vertical-align: top;\n",
       "    }\n",
       "\n",
       "    .dataframe thead th {\n",
       "        text-align: right;\n",
       "    }\n",
       "</style>\n",
       "<table border=\"1\" class=\"dataframe\">\n",
       "  <thead>\n",
       "    <tr style=\"text-align: right;\">\n",
       "      <th></th>\n",
       "      <th>0</th>\n",
       "      <th>1</th>\n",
       "      <th>2</th>\n",
       "      <th>3</th>\n",
       "      <th>4</th>\n",
       "    </tr>\n",
       "  </thead>\n",
       "  <tbody>\n",
       "    <tr>\n",
       "      <th>adult</th>\n",
       "      <td>False</td>\n",
       "      <td>False</td>\n",
       "      <td>False</td>\n",
       "      <td>False</td>\n",
       "      <td>False</td>\n",
       "    </tr>\n",
       "    <tr>\n",
       "      <th>belongs_to_collection</th>\n",
       "      <td>{'id': 10194, 'name': 'Toy Story Collection', ...</td>\n",
       "      <td>NaN</td>\n",
       "      <td>{'id': 119050, 'name': 'Grumpy Old Men Collect...</td>\n",
       "      <td>NaN</td>\n",
       "      <td>{'id': 96871, 'name': 'Father of the Bride Col...</td>\n",
       "    </tr>\n",
       "    <tr>\n",
       "      <th>budget</th>\n",
       "      <td>30000000</td>\n",
       "      <td>65000000</td>\n",
       "      <td>0</td>\n",
       "      <td>16000000</td>\n",
       "      <td>0</td>\n",
       "    </tr>\n",
       "    <tr>\n",
       "      <th>genres</th>\n",
       "      <td>[{'id': 16, 'name': 'Animation'}, {'id': 35, '...</td>\n",
       "      <td>[{'id': 12, 'name': 'Adventure'}, {'id': 14, '...</td>\n",
       "      <td>[{'id': 10749, 'name': 'Romance'}, {'id': 35, ...</td>\n",
       "      <td>[{'id': 35, 'name': 'Comedy'}, {'id': 18, 'nam...</td>\n",
       "      <td>[{'id': 35, 'name': 'Comedy'}]</td>\n",
       "    </tr>\n",
       "    <tr>\n",
       "      <th>homepage</th>\n",
       "      <td>http://toystory.disney.com/toy-story</td>\n",
       "      <td>NaN</td>\n",
       "      <td>NaN</td>\n",
       "      <td>NaN</td>\n",
       "      <td>NaN</td>\n",
       "    </tr>\n",
       "    <tr>\n",
       "      <th>id</th>\n",
       "      <td>862</td>\n",
       "      <td>8844</td>\n",
       "      <td>15602</td>\n",
       "      <td>31357</td>\n",
       "      <td>11862</td>\n",
       "    </tr>\n",
       "    <tr>\n",
       "      <th>imdb_id</th>\n",
       "      <td>tt0114709</td>\n",
       "      <td>tt0113497</td>\n",
       "      <td>tt0113228</td>\n",
       "      <td>tt0114885</td>\n",
       "      <td>tt0113041</td>\n",
       "    </tr>\n",
       "    <tr>\n",
       "      <th>original_language</th>\n",
       "      <td>en</td>\n",
       "      <td>en</td>\n",
       "      <td>en</td>\n",
       "      <td>en</td>\n",
       "      <td>en</td>\n",
       "    </tr>\n",
       "    <tr>\n",
       "      <th>original_title</th>\n",
       "      <td>Toy Story</td>\n",
       "      <td>Jumanji</td>\n",
       "      <td>Grumpier Old Men</td>\n",
       "      <td>Waiting to Exhale</td>\n",
       "      <td>Father of the Bride Part II</td>\n",
       "    </tr>\n",
       "    <tr>\n",
       "      <th>overview</th>\n",
       "      <td>Led by Woody, Andy's toys live happily in his ...</td>\n",
       "      <td>When siblings Judy and Peter discover an encha...</td>\n",
       "      <td>A family wedding reignites the ancient feud be...</td>\n",
       "      <td>Cheated on, mistreated and stepped on, the wom...</td>\n",
       "      <td>Just when George Banks has recovered from his ...</td>\n",
       "    </tr>\n",
       "    <tr>\n",
       "      <th>popularity</th>\n",
       "      <td>21.9469</td>\n",
       "      <td>17.0155</td>\n",
       "      <td>11.7129</td>\n",
       "      <td>3.85949</td>\n",
       "      <td>8.38752</td>\n",
       "    </tr>\n",
       "    <tr>\n",
       "      <th>poster_path</th>\n",
       "      <td>/rhIRbceoE9lR4veEXuwCC2wARtG.jpg</td>\n",
       "      <td>/vzmL6fP7aPKNKPRTFnZmiUfciyV.jpg</td>\n",
       "      <td>/6ksm1sjKMFLbO7UY2i6G1ju9SML.jpg</td>\n",
       "      <td>/16XOMpEaLWkrcPqSQqhTmeJuqQl.jpg</td>\n",
       "      <td>/e64sOI48hQXyru7naBFyssKFxVd.jpg</td>\n",
       "    </tr>\n",
       "    <tr>\n",
       "      <th>production_companies</th>\n",
       "      <td>[{'name': 'Pixar Animation Studios', 'id': 3}]</td>\n",
       "      <td>[{'name': 'TriStar Pictures', 'id': 559}, {'na...</td>\n",
       "      <td>[{'name': 'Warner Bros.', 'id': 6194}, {'name'...</td>\n",
       "      <td>[{'name': 'Twentieth Century Fox Film Corporat...</td>\n",
       "      <td>[{'name': 'Sandollar Productions', 'id': 5842}...</td>\n",
       "    </tr>\n",
       "    <tr>\n",
       "      <th>production_countries</th>\n",
       "      <td>[{'iso_3166_1': 'US', 'name': 'United States o...</td>\n",
       "      <td>[{'iso_3166_1': 'US', 'name': 'United States o...</td>\n",
       "      <td>[{'iso_3166_1': 'US', 'name': 'United States o...</td>\n",
       "      <td>[{'iso_3166_1': 'US', 'name': 'United States o...</td>\n",
       "      <td>[{'iso_3166_1': 'US', 'name': 'United States o...</td>\n",
       "    </tr>\n",
       "    <tr>\n",
       "      <th>release_date</th>\n",
       "      <td>1995-10-30</td>\n",
       "      <td>1995-12-15</td>\n",
       "      <td>1995-12-22</td>\n",
       "      <td>1995-12-22</td>\n",
       "      <td>1995-02-10</td>\n",
       "    </tr>\n",
       "    <tr>\n",
       "      <th>revenue</th>\n",
       "      <td>3.73554e+08</td>\n",
       "      <td>2.62797e+08</td>\n",
       "      <td>0</td>\n",
       "      <td>8.14522e+07</td>\n",
       "      <td>7.65789e+07</td>\n",
       "    </tr>\n",
       "    <tr>\n",
       "      <th>runtime</th>\n",
       "      <td>81</td>\n",
       "      <td>104</td>\n",
       "      <td>101</td>\n",
       "      <td>127</td>\n",
       "      <td>106</td>\n",
       "    </tr>\n",
       "    <tr>\n",
       "      <th>spoken_languages</th>\n",
       "      <td>[{'iso_639_1': 'en', 'name': 'English'}]</td>\n",
       "      <td>[{'iso_639_1': 'en', 'name': 'English'}, {'iso...</td>\n",
       "      <td>[{'iso_639_1': 'en', 'name': 'English'}]</td>\n",
       "      <td>[{'iso_639_1': 'en', 'name': 'English'}]</td>\n",
       "      <td>[{'iso_639_1': 'en', 'name': 'English'}]</td>\n",
       "    </tr>\n",
       "    <tr>\n",
       "      <th>status</th>\n",
       "      <td>Released</td>\n",
       "      <td>Released</td>\n",
       "      <td>Released</td>\n",
       "      <td>Released</td>\n",
       "      <td>Released</td>\n",
       "    </tr>\n",
       "    <tr>\n",
       "      <th>tagline</th>\n",
       "      <td>NaN</td>\n",
       "      <td>Roll the dice and unleash the excitement!</td>\n",
       "      <td>Still Yelling. Still Fighting. Still Ready for...</td>\n",
       "      <td>Friends are the people who let you be yourself...</td>\n",
       "      <td>Just When His World Is Back To Normal... He's ...</td>\n",
       "    </tr>\n",
       "    <tr>\n",
       "      <th>title</th>\n",
       "      <td>Toy Story</td>\n",
       "      <td>Jumanji</td>\n",
       "      <td>Grumpier Old Men</td>\n",
       "      <td>Waiting to Exhale</td>\n",
       "      <td>Father of the Bride Part II</td>\n",
       "    </tr>\n",
       "    <tr>\n",
       "      <th>video</th>\n",
       "      <td>False</td>\n",
       "      <td>False</td>\n",
       "      <td>False</td>\n",
       "      <td>False</td>\n",
       "      <td>False</td>\n",
       "    </tr>\n",
       "    <tr>\n",
       "      <th>vote_average</th>\n",
       "      <td>7.7</td>\n",
       "      <td>6.9</td>\n",
       "      <td>6.5</td>\n",
       "      <td>6.1</td>\n",
       "      <td>5.7</td>\n",
       "    </tr>\n",
       "    <tr>\n",
       "      <th>vote_count</th>\n",
       "      <td>5415</td>\n",
       "      <td>2413</td>\n",
       "      <td>92</td>\n",
       "      <td>34</td>\n",
       "      <td>173</td>\n",
       "    </tr>\n",
       "  </tbody>\n",
       "</table>\n",
       "</div>"
      ],
      "text/plain": [
       "                                                                       0  \\\n",
       "adult                                                              False   \n",
       "belongs_to_collection  {'id': 10194, 'name': 'Toy Story Collection', ...   \n",
       "budget                                                          30000000   \n",
       "genres                 [{'id': 16, 'name': 'Animation'}, {'id': 35, '...   \n",
       "homepage                            http://toystory.disney.com/toy-story   \n",
       "id                                                                   862   \n",
       "imdb_id                                                        tt0114709   \n",
       "original_language                                                     en   \n",
       "original_title                                                 Toy Story   \n",
       "overview               Led by Woody, Andy's toys live happily in his ...   \n",
       "popularity                                                       21.9469   \n",
       "poster_path                             /rhIRbceoE9lR4veEXuwCC2wARtG.jpg   \n",
       "production_companies      [{'name': 'Pixar Animation Studios', 'id': 3}]   \n",
       "production_countries   [{'iso_3166_1': 'US', 'name': 'United States o...   \n",
       "release_date                                                  1995-10-30   \n",
       "revenue                                                      3.73554e+08   \n",
       "runtime                                                               81   \n",
       "spoken_languages                [{'iso_639_1': 'en', 'name': 'English'}]   \n",
       "status                                                          Released   \n",
       "tagline                                                              NaN   \n",
       "title                                                          Toy Story   \n",
       "video                                                              False   \n",
       "vote_average                                                         7.7   \n",
       "vote_count                                                          5415   \n",
       "\n",
       "                                                                       1  \\\n",
       "adult                                                              False   \n",
       "belongs_to_collection                                                NaN   \n",
       "budget                                                          65000000   \n",
       "genres                 [{'id': 12, 'name': 'Adventure'}, {'id': 14, '...   \n",
       "homepage                                                             NaN   \n",
       "id                                                                  8844   \n",
       "imdb_id                                                        tt0113497   \n",
       "original_language                                                     en   \n",
       "original_title                                                   Jumanji   \n",
       "overview               When siblings Judy and Peter discover an encha...   \n",
       "popularity                                                       17.0155   \n",
       "poster_path                             /vzmL6fP7aPKNKPRTFnZmiUfciyV.jpg   \n",
       "production_companies   [{'name': 'TriStar Pictures', 'id': 559}, {'na...   \n",
       "production_countries   [{'iso_3166_1': 'US', 'name': 'United States o...   \n",
       "release_date                                                  1995-12-15   \n",
       "revenue                                                      2.62797e+08   \n",
       "runtime                                                              104   \n",
       "spoken_languages       [{'iso_639_1': 'en', 'name': 'English'}, {'iso...   \n",
       "status                                                          Released   \n",
       "tagline                        Roll the dice and unleash the excitement!   \n",
       "title                                                            Jumanji   \n",
       "video                                                              False   \n",
       "vote_average                                                         6.9   \n",
       "vote_count                                                          2413   \n",
       "\n",
       "                                                                       2  \\\n",
       "adult                                                              False   \n",
       "belongs_to_collection  {'id': 119050, 'name': 'Grumpy Old Men Collect...   \n",
       "budget                                                                 0   \n",
       "genres                 [{'id': 10749, 'name': 'Romance'}, {'id': 35, ...   \n",
       "homepage                                                             NaN   \n",
       "id                                                                 15602   \n",
       "imdb_id                                                        tt0113228   \n",
       "original_language                                                     en   \n",
       "original_title                                          Grumpier Old Men   \n",
       "overview               A family wedding reignites the ancient feud be...   \n",
       "popularity                                                       11.7129   \n",
       "poster_path                             /6ksm1sjKMFLbO7UY2i6G1ju9SML.jpg   \n",
       "production_companies   [{'name': 'Warner Bros.', 'id': 6194}, {'name'...   \n",
       "production_countries   [{'iso_3166_1': 'US', 'name': 'United States o...   \n",
       "release_date                                                  1995-12-22   \n",
       "revenue                                                                0   \n",
       "runtime                                                              101   \n",
       "spoken_languages                [{'iso_639_1': 'en', 'name': 'English'}]   \n",
       "status                                                          Released   \n",
       "tagline                Still Yelling. Still Fighting. Still Ready for...   \n",
       "title                                                   Grumpier Old Men   \n",
       "video                                                              False   \n",
       "vote_average                                                         6.5   \n",
       "vote_count                                                            92   \n",
       "\n",
       "                                                                       3  \\\n",
       "adult                                                              False   \n",
       "belongs_to_collection                                                NaN   \n",
       "budget                                                          16000000   \n",
       "genres                 [{'id': 35, 'name': 'Comedy'}, {'id': 18, 'nam...   \n",
       "homepage                                                             NaN   \n",
       "id                                                                 31357   \n",
       "imdb_id                                                        tt0114885   \n",
       "original_language                                                     en   \n",
       "original_title                                         Waiting to Exhale   \n",
       "overview               Cheated on, mistreated and stepped on, the wom...   \n",
       "popularity                                                       3.85949   \n",
       "poster_path                             /16XOMpEaLWkrcPqSQqhTmeJuqQl.jpg   \n",
       "production_companies   [{'name': 'Twentieth Century Fox Film Corporat...   \n",
       "production_countries   [{'iso_3166_1': 'US', 'name': 'United States o...   \n",
       "release_date                                                  1995-12-22   \n",
       "revenue                                                      8.14522e+07   \n",
       "runtime                                                              127   \n",
       "spoken_languages                [{'iso_639_1': 'en', 'name': 'English'}]   \n",
       "status                                                          Released   \n",
       "tagline                Friends are the people who let you be yourself...   \n",
       "title                                                  Waiting to Exhale   \n",
       "video                                                              False   \n",
       "vote_average                                                         6.1   \n",
       "vote_count                                                            34   \n",
       "\n",
       "                                                                       4  \n",
       "adult                                                              False  \n",
       "belongs_to_collection  {'id': 96871, 'name': 'Father of the Bride Col...  \n",
       "budget                                                                 0  \n",
       "genres                                    [{'id': 35, 'name': 'Comedy'}]  \n",
       "homepage                                                             NaN  \n",
       "id                                                                 11862  \n",
       "imdb_id                                                        tt0113041  \n",
       "original_language                                                     en  \n",
       "original_title                               Father of the Bride Part II  \n",
       "overview               Just when George Banks has recovered from his ...  \n",
       "popularity                                                       8.38752  \n",
       "poster_path                             /e64sOI48hQXyru7naBFyssKFxVd.jpg  \n",
       "production_companies   [{'name': 'Sandollar Productions', 'id': 5842}...  \n",
       "production_countries   [{'iso_3166_1': 'US', 'name': 'United States o...  \n",
       "release_date                                                  1995-02-10  \n",
       "revenue                                                      7.65789e+07  \n",
       "runtime                                                              106  \n",
       "spoken_languages                [{'iso_639_1': 'en', 'name': 'English'}]  \n",
       "status                                                          Released  \n",
       "tagline                Just When His World Is Back To Normal... He's ...  \n",
       "title                                        Father of the Bride Part II  \n",
       "video                                                              False  \n",
       "vote_average                                                         5.7  \n",
       "vote_count                                                           173  "
      ]
     },
     "execution_count": 2,
     "metadata": {},
     "output_type": "execute_result"
    }
   ],
   "source": [
    "df = pd. read_csv('./movies_metadata.csv')\n",
    "df.head().transpose()"
   ]
  },
  {
   "cell_type": "code",
   "execution_count": null,
   "metadata": {},
   "outputs": [],
   "source": []
  },
  {
   "cell_type": "markdown",
   "metadata": {},
   "source": [
    "<a id='part_2'></a>\n",
    "### 1. Movie Description and Tagline Based Recommender\n",
    "\n",
    "Here we will build a recommender based on cosine similarity between movies based on description and tagline.\n",
    "\n",
    "Here we can't use the full dataset of movies. The reason is the calculation of similarity of such large dataset will lead to Memory Error in my own computer (16GB). Hence here we will use the links_small.csv to extract a small amount of movies for study."
   ]
  },
  {
   "cell_type": "code",
   "execution_count": 3,
   "metadata": {},
   "outputs": [
    {
     "name": "stdout",
     "output_type": "stream",
     "text": [
      "Index(['movieId', 'imdbId', 'tmdbId'], dtype='object')\n"
     ]
    },
    {
     "data": {
      "text/plain": [
       "0      862\n",
       "1     8844\n",
       "2    15602\n",
       "3    31357\n",
       "4    11862\n",
       "Name: tmdbId, dtype: int32"
      ]
     },
     "execution_count": 3,
     "metadata": {},
     "output_type": "execute_result"
    }
   ],
   "source": [
    "links_small = pd.read_csv('./links_small.csv')\n",
    "print(links_small.columns)\n",
    "# here we will just use the tmdbId since it is id used in the movies_metadata\n",
    "links_small = links_small[links_small['tmdbId'].notnull()]['tmdbId'].astype('int') \n",
    "links_small.head()"
   ]
  },
  {
   "cell_type": "code",
   "execution_count": 4,
   "metadata": {},
   "outputs": [
    {
     "name": "stdout",
     "output_type": "stream",
     "text": [
      "<class 'str'>\n",
      "1997-08-20\n"
     ]
    }
   ],
   "source": [
    "print(type(df['id'][0]))\n",
    "print(df['id'][19730])\n",
    "# As we can see, there are several invalid ids, we need to drop them\n",
    "# Also the default type for id is string, in order to combine df and links_small, we need to keep ids of them in the same satatype"
   ]
  },
  {
   "cell_type": "code",
   "execution_count": 5,
   "metadata": {},
   "outputs": [
    {
     "data": {
      "text/plain": [
       "(9099, 24)"
      ]
     },
     "execution_count": 5,
     "metadata": {},
     "output_type": "execute_result"
    }
   ],
   "source": [
    "df = df.drop([19730, 29503, 35587]) # these three ids are not int type\n",
    "df['id'] = df['id'].astype('int') # change id as the same data type as links, so we can join/combine them\n",
    "\n",
    "df_small = df[df['id'].isin(links_small)]\n",
    "df_small.head()\n",
    "df_small.shape"
   ]
  },
  {
   "cell_type": "code",
   "execution_count": 6,
   "metadata": {},
   "outputs": [],
   "source": [
    "# combine \"tag\" and \"overview\" as \"description\" for the movie\n",
    "df_small['tagline'] = df_small['tagline'].fillna('')\n",
    "df_small['description'] = df_small['overview'] + df_small['tagline']\n",
    "df_small['description'] = df_small['description'].fillna('')"
   ]
  },
  {
   "cell_type": "code",
   "execution_count": 7,
   "metadata": {},
   "outputs": [],
   "source": [
    "# reference: http://blog.christianperone.com/2013/09/machine-learning-cosine-similarity-for-vector-space-models-part-iii/\n",
    "from sklearn.feature_extraction.text import TfidfVectorizer, CountVectorizer\n",
    "tf = TfidfVectorizer(analyzer='word',ngram_range=(1, 2),min_df=0, stop_words='english')\n",
    "tfidf_matrix = tf.fit_transform(df_small['description'])"
   ]
  },
  {
   "cell_type": "code",
   "execution_count": 8,
   "metadata": {},
   "outputs": [
    {
     "data": {
      "text/plain": [
       "0    Led by Woody, Andy's toys live happily in his ...\n",
       "1    When siblings Judy and Peter discover an encha...\n",
       "2    A family wedding reignites the ancient feud be...\n",
       "3    Cheated on, mistreated and stepped on, the wom...\n",
       "4    Just when George Banks has recovered from his ...\n",
       "Name: description, dtype: object"
      ]
     },
     "execution_count": 8,
     "metadata": {},
     "output_type": "execute_result"
    }
   ],
   "source": [
    "df_small['description'].head()"
   ]
  },
  {
   "cell_type": "markdown",
   "metadata": {},
   "source": [
    "Then we need to use the movie description feature above, to calculate the similarity between paired movies. The second link below has a good tutorial how to do this with words (TF-IDF Vectorizer)\n",
    "\n",
    "Tutorials that how to calculate the cosine_similarity with sk-learn\n",
    "* http://blog.christianperone.com/2013/09/machine-learning-cosine-similarity-for-vector-space-models-part-iii/\n",
    "* http://scikit-learn.org/stable/modules/metrics.html"
   ]
  },
  {
   "cell_type": "code",
   "execution_count": 9,
   "metadata": {},
   "outputs": [
    {
     "data": {
      "text/plain": [
       "(9099, 268124)"
      ]
     },
     "execution_count": 9,
     "metadata": {},
     "output_type": "execute_result"
    }
   ],
   "source": [
    "tfidf_matrix.shape"
   ]
  },
  {
   "cell_type": "code",
   "execution_count": 11,
   "metadata": {},
   "outputs": [
    {
     "name": "stdout",
     "output_type": "stream",
     "text": [
      "(9099, 9099)\n",
      "[ 1.          0.00680476  0.         ...,  0.          0.00344913  0.        ]\n"
     ]
    }
   ],
   "source": [
    "# Here will result MemoryError:  if we use the full dataset\n",
    "from sklearn.metrics.pairwise import linear_kernel, cosine_similarity\n",
    "cosine_sim = linear_kernel(tfidf_matrix, tfidf_matrix)\n",
    "print(cosine_sim.shape)\n",
    "print(cosine_sim[0])"
   ]
  },
  {
   "cell_type": "markdown",
   "metadata": {},
   "source": [
    "Now we get the similarity matrix, and we can use this matrix to recommend similar movies to the target movie."
   ]
  },
  {
   "cell_type": "code",
   "execution_count": 13,
   "metadata": {},
   "outputs": [
    {
     "data": {
      "text/plain": [
       "array([ 0.        ,  0.00777413,  0.        , ...,  0.        ,\n",
       "        0.        ,  0.        ])"
      ]
     },
     "execution_count": 13,
     "metadata": {},
     "output_type": "execute_result"
    }
   ],
   "source": [
    "df_small = df_small.reset_index()\n",
    "idx = df_small[df_small['title'] == 'The Dark Knight'].index.values[0] # there is only one value such that title is same\n",
    "cosine_sim[idx]"
   ]
  },
  {
   "cell_type": "code",
   "execution_count": 25,
   "metadata": {},
   "outputs": [],
   "source": [
    "def get_recommendations(title):\n",
    "    idx = df_small[df_small['title'] == title].index.values[0]\n",
    "    #print(idx)\n",
    "    sim_scores = []\n",
    "    for index, score in enumerate(cosine_sim[idx]): # itearate the array(cosine_sim[idx]), to extract index and score as tuple, saved to list\n",
    "        sim_scores.append((index,score))\n",
    "    #sim_scores = list(enumerate(cosine_sim[idx])) same as above\n",
    "    sim_scores = sorted(sim_scores, key=lambda x: x[1], reverse=True) # sort a list of tuples by one index/column\n",
    "    top_sim_scores = sim_scores[1:11] # only get top 10\n",
    "    print('The similarity scores of top similar movies are: ',top_sim_scores)\n",
    "    top_movie_indices = [x[0] for x in top_sim_scores] # extract indexs of top similar movies as in the original df (same as in the array)\n",
    "    return df_small['title'].iloc[top_movie_indices]"
   ]
  },
  {
   "cell_type": "code",
   "execution_count": 26,
   "metadata": {},
   "outputs": [
    {
     "name": "stdout",
     "output_type": "stream",
     "text": [
      "The similarity scores of top similar movies are:  [(7931, 0.171373648623319), (132, 0.1224441524010626), (1113, 0.10088975721500877), (8227, 0.084762418538368439), (7565, 0.084196920814179024), (524, 0.081623429210359449), (7901, 0.077806921264712711), (2579, 0.069628630875434111), (2696, 0.061758594450787727), (8165, 0.060949423343999609)]\n"
     ]
    },
    {
     "data": {
      "text/plain": [
       "7931                      The Dark Knight Rises\n",
       "132                              Batman Forever\n",
       "1113                             Batman Returns\n",
       "8227    Batman: The Dark Knight Returns, Part 2\n",
       "7565                 Batman: Under the Red Hood\n",
       "524                                      Batman\n",
       "7901                           Batman: Year One\n",
       "2579               Batman: Mask of the Phantasm\n",
       "2696                                        JFK\n",
       "8165    Batman: The Dark Knight Returns, Part 1\n",
       "Name: title, dtype: object"
      ]
     },
     "execution_count": 26,
     "metadata": {},
     "output_type": "execute_result"
    }
   ],
   "source": [
    "# Let's get the top 10 movies similar to 'The Dark Knight'\n",
    "get_recommendations('The Dark Knight').head(10)"
   ]
  },
  {
   "cell_type": "code",
   "execution_count": null,
   "metadata": {},
   "outputs": [],
   "source": []
  },
  {
   "cell_type": "markdown",
   "metadata": {},
   "source": [
    "<a id='part_3'></a>\n",
    "## 2. Genres, Director, Actors and Keywords Based Recommender"
   ]
  },
  {
   "cell_type": "markdown",
   "metadata": {},
   "source": [
    "First, let's combine meatadata, credits and keywords files together."
   ]
  },
  {
   "cell_type": "code",
   "execution_count": 3,
   "metadata": {},
   "outputs": [],
   "source": [
    "# import libraries again, so we can start from here\n",
    "import pandas as pd\n",
    "import numpy as np\n",
    "import matplotlib.pyplot as plt\n",
    "%matplotlib inline\n",
    "import seaborn as sns\n",
    "import os\n",
    "import datetime as dt\n",
    "import warnings  \n",
    "warnings.filterwarnings('ignore')\n",
    "import ast"
   ]
  },
  {
   "cell_type": "code",
   "execution_count": 4,
   "metadata": {},
   "outputs": [],
   "source": [
    "# load the df again, so that we will not mix with last recomender work\n",
    "df = pd. read_csv('./movies_metadata.csv')"
   ]
  },
  {
   "cell_type": "code",
   "execution_count": 5,
   "metadata": {},
   "outputs": [],
   "source": [
    "df = df.drop([19730, 29503, 35587]) # these three ids are not int type\n",
    "df['id'] = df['id'].astype('int') # change id as the same data type as links, so we can join/combine them"
   ]
  },
  {
   "cell_type": "code",
   "execution_count": 6,
   "metadata": {},
   "outputs": [
    {
     "data": {
      "text/html": [
       "<div>\n",
       "<style scoped>\n",
       "    .dataframe tbody tr th:only-of-type {\n",
       "        vertical-align: middle;\n",
       "    }\n",
       "\n",
       "    .dataframe tbody tr th {\n",
       "        vertical-align: top;\n",
       "    }\n",
       "\n",
       "    .dataframe thead th {\n",
       "        text-align: right;\n",
       "    }\n",
       "</style>\n",
       "<table border=\"1\" class=\"dataframe\">\n",
       "  <thead>\n",
       "    <tr style=\"text-align: right;\">\n",
       "      <th></th>\n",
       "      <th>cast</th>\n",
       "      <th>crew</th>\n",
       "      <th>id</th>\n",
       "    </tr>\n",
       "  </thead>\n",
       "  <tbody>\n",
       "    <tr>\n",
       "      <th>0</th>\n",
       "      <td>[{'cast_id': 14, 'character': 'Woody (voice)',...</td>\n",
       "      <td>[{'credit_id': '52fe4284c3a36847f8024f49', 'de...</td>\n",
       "      <td>862</td>\n",
       "    </tr>\n",
       "    <tr>\n",
       "      <th>1</th>\n",
       "      <td>[{'cast_id': 1, 'character': 'Alan Parrish', '...</td>\n",
       "      <td>[{'credit_id': '52fe44bfc3a36847f80a7cd1', 'de...</td>\n",
       "      <td>8844</td>\n",
       "    </tr>\n",
       "    <tr>\n",
       "      <th>2</th>\n",
       "      <td>[{'cast_id': 2, 'character': 'Max Goldman', 'c...</td>\n",
       "      <td>[{'credit_id': '52fe466a9251416c75077a89', 'de...</td>\n",
       "      <td>15602</td>\n",
       "    </tr>\n",
       "    <tr>\n",
       "      <th>3</th>\n",
       "      <td>[{'cast_id': 1, 'character': \"Savannah 'Vannah...</td>\n",
       "      <td>[{'credit_id': '52fe44779251416c91011acb', 'de...</td>\n",
       "      <td>31357</td>\n",
       "    </tr>\n",
       "    <tr>\n",
       "      <th>4</th>\n",
       "      <td>[{'cast_id': 1, 'character': 'George Banks', '...</td>\n",
       "      <td>[{'credit_id': '52fe44959251416c75039ed7', 'de...</td>\n",
       "      <td>11862</td>\n",
       "    </tr>\n",
       "  </tbody>\n",
       "</table>\n",
       "</div>"
      ],
      "text/plain": [
       "                                                cast  \\\n",
       "0  [{'cast_id': 14, 'character': 'Woody (voice)',...   \n",
       "1  [{'cast_id': 1, 'character': 'Alan Parrish', '...   \n",
       "2  [{'cast_id': 2, 'character': 'Max Goldman', 'c...   \n",
       "3  [{'cast_id': 1, 'character': \"Savannah 'Vannah...   \n",
       "4  [{'cast_id': 1, 'character': 'George Banks', '...   \n",
       "\n",
       "                                                crew     id  \n",
       "0  [{'credit_id': '52fe4284c3a36847f8024f49', 'de...    862  \n",
       "1  [{'credit_id': '52fe44bfc3a36847f80a7cd1', 'de...   8844  \n",
       "2  [{'credit_id': '52fe466a9251416c75077a89', 'de...  15602  \n",
       "3  [{'credit_id': '52fe44779251416c91011acb', 'de...  31357  \n",
       "4  [{'credit_id': '52fe44959251416c75039ed7', 'de...  11862  "
      ]
     },
     "execution_count": 6,
     "metadata": {},
     "output_type": "execute_result"
    }
   ],
   "source": [
    "credits = pd.read_csv('./credits.csv')\n",
    "credits.head()"
   ]
  },
  {
   "cell_type": "code",
   "execution_count": 7,
   "metadata": {},
   "outputs": [
    {
     "data": {
      "text/plain": [
       "(45538, 26)"
      ]
     },
     "execution_count": 7,
     "metadata": {},
     "output_type": "execute_result"
    }
   ],
   "source": [
    "credits['id'] = credits['id'].astype('int')\n",
    "df = df.merge(credits, on='id')\n",
    "df.shape"
   ]
  },
  {
   "cell_type": "code",
   "execution_count": 8,
   "metadata": {},
   "outputs": [
    {
     "data": {
      "text/html": [
       "<div>\n",
       "<style scoped>\n",
       "    .dataframe tbody tr th:only-of-type {\n",
       "        vertical-align: middle;\n",
       "    }\n",
       "\n",
       "    .dataframe tbody tr th {\n",
       "        vertical-align: top;\n",
       "    }\n",
       "\n",
       "    .dataframe thead th {\n",
       "        text-align: right;\n",
       "    }\n",
       "</style>\n",
       "<table border=\"1\" class=\"dataframe\">\n",
       "  <thead>\n",
       "    <tr style=\"text-align: right;\">\n",
       "      <th></th>\n",
       "      <th>id</th>\n",
       "      <th>keywords</th>\n",
       "    </tr>\n",
       "  </thead>\n",
       "  <tbody>\n",
       "    <tr>\n",
       "      <th>0</th>\n",
       "      <td>862</td>\n",
       "      <td>[{'id': 931, 'name': 'jealousy'}, {'id': 4290,...</td>\n",
       "    </tr>\n",
       "    <tr>\n",
       "      <th>1</th>\n",
       "      <td>8844</td>\n",
       "      <td>[{'id': 10090, 'name': 'board game'}, {'id': 1...</td>\n",
       "    </tr>\n",
       "    <tr>\n",
       "      <th>2</th>\n",
       "      <td>15602</td>\n",
       "      <td>[{'id': 1495, 'name': 'fishing'}, {'id': 12392...</td>\n",
       "    </tr>\n",
       "    <tr>\n",
       "      <th>3</th>\n",
       "      <td>31357</td>\n",
       "      <td>[{'id': 818, 'name': 'based on novel'}, {'id':...</td>\n",
       "    </tr>\n",
       "    <tr>\n",
       "      <th>4</th>\n",
       "      <td>11862</td>\n",
       "      <td>[{'id': 1009, 'name': 'baby'}, {'id': 1599, 'n...</td>\n",
       "    </tr>\n",
       "  </tbody>\n",
       "</table>\n",
       "</div>"
      ],
      "text/plain": [
       "      id                                           keywords\n",
       "0    862  [{'id': 931, 'name': 'jealousy'}, {'id': 4290,...\n",
       "1   8844  [{'id': 10090, 'name': 'board game'}, {'id': 1...\n",
       "2  15602  [{'id': 1495, 'name': 'fishing'}, {'id': 12392...\n",
       "3  31357  [{'id': 818, 'name': 'based on novel'}, {'id':...\n",
       "4  11862  [{'id': 1009, 'name': 'baby'}, {'id': 1599, 'n..."
      ]
     },
     "execution_count": 8,
     "metadata": {},
     "output_type": "execute_result"
    }
   ],
   "source": [
    "keywords = pd.read_csv('./keywords.csv')\n",
    "keywords.head()"
   ]
  },
  {
   "cell_type": "code",
   "execution_count": 9,
   "metadata": {},
   "outputs": [
    {
     "data": {
      "text/plain": [
       "(46628, 27)"
      ]
     },
     "execution_count": 9,
     "metadata": {},
     "output_type": "execute_result"
    }
   ],
   "source": [
    "keywords['id'] = keywords['id'].astype('int')\n",
    "df = df.merge(keywords, on='id')\n",
    "df.shape"
   ]
  },
  {
   "cell_type": "markdown",
   "metadata": {},
   "source": [
    "Again, here we will focus on the small dataset, to avoid memory error issues."
   ]
  },
  {
   "cell_type": "code",
   "execution_count": 10,
   "metadata": {},
   "outputs": [
    {
     "name": "stdout",
     "output_type": "stream",
     "text": [
      "Index(['movieId', 'imdbId', 'tmdbId'], dtype='object')\n"
     ]
    },
    {
     "data": {
      "text/plain": [
       "0      862\n",
       "1     8844\n",
       "2    15602\n",
       "3    31357\n",
       "4    11862\n",
       "Name: tmdbId, dtype: int32"
      ]
     },
     "execution_count": 10,
     "metadata": {},
     "output_type": "execute_result"
    }
   ],
   "source": [
    "links_small = pd.read_csv('./links_small.csv')\n",
    "print(links_small.columns)\n",
    "# here we will just use the tmdbId since it is id used in the movies_metadata\n",
    "links_small = links_small[links_small['tmdbId'].notnull()]['tmdbId'].astype('int') \n",
    "links_small.head()"
   ]
  },
  {
   "cell_type": "code",
   "execution_count": 11,
   "metadata": {},
   "outputs": [
    {
     "data": {
      "text/plain": [
       "(9219, 27)"
      ]
     },
     "execution_count": 11,
     "metadata": {},
     "output_type": "execute_result"
    }
   ],
   "source": [
    "df_small = df[df['id'].isin(links_small)]\n",
    "#df_small.head()\n",
    "df_small.shape"
   ]
  },
  {
   "cell_type": "code",
   "execution_count": 12,
   "metadata": {},
   "outputs": [],
   "source": [
    "df = df_small.copy()\n",
    "df = df.reset_index() # this is important, since it will help reset 4xxxx index to 9xxx index"
   ]
  },
  {
   "cell_type": "markdown",
   "metadata": {},
   "source": [
    "### Convert genres data types\n",
    "All cast, crew and keyword have special datatypes as genres, we need to convert them."
   ]
  },
  {
   "cell_type": "code",
   "execution_count": 13,
   "metadata": {},
   "outputs": [],
   "source": [
    "def get_values(data_str):\n",
    "    if isinstance(data_str, float):\n",
    "        pass\n",
    "    else:\n",
    "        values = []\n",
    "        data_str = ast.literal_eval(data_str)\n",
    "        if isinstance(data_str, list):\n",
    "            for k_v in data_str:\n",
    "                values.append(k_v['name'])\n",
    "            return values\n",
    "        else:\n",
    "            return None"
   ]
  },
  {
   "cell_type": "code",
   "execution_count": 14,
   "metadata": {},
   "outputs": [],
   "source": [
    "df['genres'] = df['genres'].map(lambda x: get_values(x)) # we will use this one for genres"
   ]
  },
  {
   "cell_type": "markdown",
   "metadata": {},
   "source": [
    "### Convert crew data types and extract director info\n",
    "\n",
    "When convert/change types of crew, we need to extract some information from it, like director. As we know, people will take the director of movie in account for whether they should watch it."
   ]
  },
  {
   "cell_type": "code",
   "execution_count": 15,
   "metadata": {},
   "outputs": [],
   "source": [
    "df['crew'] = df['crew'].apply(ast.literal_eval)"
   ]
  },
  {
   "cell_type": "code",
   "execution_count": 16,
   "metadata": {},
   "outputs": [
    {
     "data": {
      "text/plain": [
       "0    [{'name': 'John Lasseter', 'credit_id': '52fe4...\n",
       "1    [{'name': 'Larry J. Franco', 'credit_id': '52f...\n",
       "2    [{'name': 'Howard Deutch', 'credit_id': '52fe4...\n",
       "3    [{'name': 'Forest Whitaker', 'credit_id': '52f...\n",
       "4    [{'name': 'Alan Silvestri', 'credit_id': '52fe...\n",
       "Name: crew, dtype: object"
      ]
     },
     "execution_count": 16,
     "metadata": {},
     "output_type": "execute_result"
    }
   ],
   "source": [
    "df['crew'].head()\n",
    "# Here note that we need to extract the director info, so will keep this form first, which is same as 'genres'"
   ]
  },
  {
   "cell_type": "code",
   "execution_count": 17,
   "metadata": {},
   "outputs": [],
   "source": [
    "def get_director(data):\n",
    "    for x in data:\n",
    "        #print(x)\n",
    "        if x['job'] == 'Director':\n",
    "            return x['name']\n",
    "    return np.nan"
   ]
  },
  {
   "cell_type": "code",
   "execution_count": 18,
   "metadata": {},
   "outputs": [],
   "source": [
    "df['director'] = df['crew'].apply(get_director)"
   ]
  },
  {
   "cell_type": "code",
   "execution_count": 19,
   "metadata": {},
   "outputs": [
    {
     "data": {
      "text/plain": [
       "0      John Lasseter\n",
       "1       Joe Johnston\n",
       "2      Howard Deutch\n",
       "3    Forest Whitaker\n",
       "4      Charles Shyer\n",
       "Name: director, dtype: object"
      ]
     },
     "execution_count": 19,
     "metadata": {},
     "output_type": "execute_result"
    }
   ],
   "source": [
    "df['director'].head()"
   ]
  },
  {
   "cell_type": "code",
   "execution_count": 20,
   "metadata": {},
   "outputs": [
    {
     "data": {
      "text/plain": [
       "0      johnlasseter\n",
       "1       joejohnston\n",
       "2      howarddeutch\n",
       "3    forestwhitaker\n",
       "4      charlesshyer\n",
       "Name: director, dtype: object"
      ]
     },
     "execution_count": 20,
     "metadata": {},
     "output_type": "execute_result"
    }
   ],
   "source": [
    "# convert to lower case and remove the space\n",
    "df['director'] = df['director'].astype('str').apply(lambda x: str.lower(x.replace(\" \", \"\")))\n",
    "df['director'].head()"
   ]
  },
  {
   "cell_type": "markdown",
   "metadata": {},
   "source": [
    "The below part is interesting, the idea here is that we will treat director more important than actors.\n"
   ]
  },
  {
   "cell_type": "code",
   "execution_count": 21,
   "metadata": {},
   "outputs": [
    {
     "data": {
      "text/plain": [
       "0          [johnlasseter, johnlasseter, johnlasseter]\n",
       "1             [joejohnston, joejohnston, joejohnston]\n",
       "2          [howarddeutch, howarddeutch, howarddeutch]\n",
       "3    [forestwhitaker, forestwhitaker, forestwhitaker]\n",
       "4          [charlesshyer, charlesshyer, charlesshyer]\n",
       "Name: director, dtype: object"
      ]
     },
     "execution_count": 21,
     "metadata": {},
     "output_type": "execute_result"
    }
   ],
   "source": [
    "df['director'] = df['director'].apply(lambda x: [x,x,x])\n",
    "df['director'].head()"
   ]
  },
  {
   "cell_type": "code",
   "execution_count": null,
   "metadata": {},
   "outputs": [],
   "source": []
  },
  {
   "cell_type": "markdown",
   "metadata": {},
   "source": [
    "### Convert cast data types and eliminate the numers of actors\n",
    "Again do the same thing for crew. Also we will only count for the several main actors"
   ]
  },
  {
   "cell_type": "code",
   "execution_count": 22,
   "metadata": {},
   "outputs": [],
   "source": [
    "df['cast'] = df['cast'].apply(ast.literal_eval)"
   ]
  },
  {
   "cell_type": "code",
   "execution_count": 23,
   "metadata": {},
   "outputs": [
    {
     "data": {
      "text/plain": [
       "0    [{'order': 0, 'name': 'Tom Hanks', 'credit_id'...\n",
       "1    [{'order': 0, 'name': 'Robin Williams', 'credi...\n",
       "2    [{'order': 0, 'name': 'Walter Matthau', 'credi...\n",
       "3    [{'order': 0, 'name': 'Whitney Houston', 'cred...\n",
       "4    [{'order': 0, 'name': 'Steve Martin', 'credit_...\n",
       "Name: cast, dtype: object"
      ]
     },
     "execution_count": 23,
     "metadata": {},
     "output_type": "execute_result"
    }
   ],
   "source": [
    "df['cast'].head()\n",
    "# now the data type is same as genres, we can apply the fun() get_values()"
   ]
  },
  {
   "cell_type": "code",
   "execution_count": 24,
   "metadata": {},
   "outputs": [],
   "source": [
    "def get_values_after_literal_eval(data_str):\n",
    "    if isinstance(data_str, float):\n",
    "        pass\n",
    "    else:\n",
    "        values = []\n",
    "        #data_str = ast.literal_eval(data_str)\n",
    "        if isinstance(data_str, list):\n",
    "            for k_v in data_str:\n",
    "                values.append(k_v['name'])\n",
    "            return values\n",
    "        else:\n",
    "            return None"
   ]
  },
  {
   "cell_type": "code",
   "execution_count": 25,
   "metadata": {},
   "outputs": [],
   "source": [
    "df['cast'] = df['cast'].map(lambda x: get_values_after_literal_eval(x)) # do the same thing as genres"
   ]
  },
  {
   "cell_type": "code",
   "execution_count": 26,
   "metadata": {},
   "outputs": [
    {
     "data": {
      "text/plain": [
       "0    [Tom Hanks, Tim Allen, Don Rickles, Jim Varney...\n",
       "1    [Robin Williams, Jonathan Hyde, Kirsten Dunst,...\n",
       "2    [Walter Matthau, Jack Lemmon, Ann-Margret, Sop...\n",
       "3    [Whitney Houston, Angela Bassett, Loretta Devi...\n",
       "4    [Steve Martin, Diane Keaton, Martin Short, Kim...\n",
       "Name: cast, dtype: object"
      ]
     },
     "execution_count": 26,
     "metadata": {},
     "output_type": "execute_result"
    }
   ],
   "source": [
    "df['cast'].head()"
   ]
  },
  {
   "cell_type": "markdown",
   "metadata": {},
   "source": [
    "since there are too many actors, we will only count the main actors (if we add others, then the system will treat them as same weight, so that the cosine-similarity will not be correct"
   ]
  },
  {
   "cell_type": "code",
   "execution_count": 27,
   "metadata": {},
   "outputs": [
    {
     "data": {
      "text/plain": [
       "0                  [Tom Hanks, Tim Allen, Don Rickles]\n",
       "1       [Robin Williams, Jonathan Hyde, Kirsten Dunst]\n",
       "2           [Walter Matthau, Jack Lemmon, Ann-Margret]\n",
       "3    [Whitney Houston, Angela Bassett, Loretta Devine]\n",
       "4           [Steve Martin, Diane Keaton, Martin Short]\n",
       "Name: cast, dtype: object"
      ]
     },
     "execution_count": 27,
     "metadata": {},
     "output_type": "execute_result"
    }
   ],
   "source": [
    "df['cast'] = df['cast'].apply(lambda x: x[:3] if len(x) >=3 else x)\n",
    "df['cast'].head()"
   ]
  },
  {
   "cell_type": "code",
   "execution_count": 28,
   "metadata": {},
   "outputs": [
    {
     "data": {
      "text/plain": [
       "0                  [tomhanks, timallen, donrickles]\n",
       "1       [robinwilliams, jonathanhyde, kirstendunst]\n",
       "2          [waltermatthau, jacklemmon, ann-margret]\n",
       "3    [whitneyhouston, angelabassett, lorettadevine]\n",
       "4           [stevemartin, dianekeaton, martinshort]\n",
       "Name: cast, dtype: object"
      ]
     },
     "execution_count": 28,
     "metadata": {},
     "output_type": "execute_result"
    }
   ],
   "source": [
    "# Also convert to lower case as compare, and remove space between first/last name\n",
    "df['cast'] = df['cast'].apply(lambda x: [str.lower(i.replace(\" \", \"\")) for i in x])\n",
    "df['cast'].head()"
   ]
  },
  {
   "cell_type": "code",
   "execution_count": null,
   "metadata": {},
   "outputs": [],
   "source": []
  },
  {
   "cell_type": "markdown",
   "metadata": {},
   "source": [
    "### Convert the keyword data types"
   ]
  },
  {
   "cell_type": "code",
   "execution_count": 29,
   "metadata": {},
   "outputs": [
    {
     "data": {
      "text/plain": [
       "0    [{'id': 931, 'name': 'jealousy'}, {'id': 4290,...\n",
       "1    [{'id': 10090, 'name': 'board game'}, {'id': 1...\n",
       "2    [{'id': 1495, 'name': 'fishing'}, {'id': 12392...\n",
       "3    [{'id': 818, 'name': 'based on novel'}, {'id':...\n",
       "4    [{'id': 1009, 'name': 'baby'}, {'id': 1599, 'n...\n",
       "Name: keywords, dtype: object"
      ]
     },
     "execution_count": 29,
     "metadata": {},
     "output_type": "execute_result"
    }
   ],
   "source": [
    "df['keywords'].head()"
   ]
  },
  {
   "cell_type": "code",
   "execution_count": 30,
   "metadata": {},
   "outputs": [],
   "source": [
    "df['keywords'] = df['keywords'].map(lambda x: get_values(x)) # we will use same methods as genres"
   ]
  },
  {
   "cell_type": "code",
   "execution_count": 31,
   "metadata": {},
   "outputs": [
    {
     "data": {
      "text/plain": [
       "0    [jealousy, toy, boy, friendship, friends, riva...\n",
       "1    [board game, disappearance, based on children'...\n",
       "2    [fishing, best friend, duringcreditsstinger, o...\n",
       "3    [based on novel, interracial relationship, sin...\n",
       "4    [baby, midlife crisis, confidence, aging, daug...\n",
       "Name: keywords, dtype: object"
      ]
     },
     "execution_count": 31,
     "metadata": {},
     "output_type": "execute_result"
    }
   ],
   "source": [
    "df['keywords'].head()\n",
    "#df['keywords'][0]"
   ]
  },
  {
   "cell_type": "code",
   "execution_count": 32,
   "metadata": {},
   "outputs": [
    {
     "name": "stdout",
     "output_type": "stream",
     "text": [
      "[nltk_data] Downloading package stopwords to\n",
      "[nltk_data]     C:\\Users\\Lighterkey\\AppData\\Roaming\\nltk_data...\n",
      "[nltk_data]   Package stopwords is already up-to-date!\n"
     ]
    }
   ],
   "source": [
    "# learned from Udemy, machine learning A-Z\n",
    "import nltk\n",
    "nltk.download('stopwords')\n",
    "from nltk.corpus import stopwords\n",
    "from nltk.stem.porter import PorterStemmer # find the rrot of word, loved, loves, loving... -> love"
   ]
  },
  {
   "cell_type": "code",
   "execution_count": 33,
   "metadata": {},
   "outputs": [
    {
     "data": {
      "text/plain": [
       "0    [jealousi toy boy friendship friend rivalri bo...\n",
       "1    [board game disappear base children' book new ...\n",
       "2        [fish best friend duringcreditssting old men]\n",
       "3    [base novel interraci relationship singl mothe...\n",
       "4    [babi midlif crisi confid age daughter mother ...\n",
       "Name: keywords, dtype: object"
      ]
     },
     "execution_count": 33,
     "metadata": {},
     "output_type": "execute_result"
    }
   ],
   "source": [
    "# purpose here is to convert [board game, dis...] to [board, game, ....] \n",
    "# iterate rows and change value, see NYC-Taxi and \n",
    "# https://stackoverflow.com/questions/23330654/update-a-dataframe-in-pandas-while-iterating-row-by-row\n",
    "for index, row in df.iterrows():\n",
    "    #print(index)\n",
    "    final_keywords = []\n",
    "    for keywords in row['keywords']:\n",
    "        keywords = keywords.lower()\n",
    "        keywords.split(' ')\n",
    "        final_keywords += keywords.split(' ')\n",
    "        \n",
    "    ps = PorterStemmer()\n",
    "    final_keywords = [ps.stem(word) for word in final_keywords if not word in set(stopwords.words('english'))]\n",
    "    final_keywords = ' '.join(final_keywords).strip() # \"wow\", \"love\", \"place\" -> \"wow love place\"\n",
    "    #print(index, final_keywords)\n",
    "    df.loc[index, 'keywords'] = [final_keywords]\n",
    "df['keywords'].head()"
   ]
  },
  {
   "cell_type": "code",
   "execution_count": null,
   "metadata": {},
   "outputs": [],
   "source": []
  },
  {
   "cell_type": "markdown",
   "metadata": {},
   "source": [
    "### Combine cast, crew, keywords together"
   ]
  },
  {
   "cell_type": "markdown",
   "metadata": {},
   "source": [
    "https://www.kaggle.com/rounakbanik/movie-recommender-systems"
   ]
  },
  {
   "cell_type": "code",
   "execution_count": 36,
   "metadata": {},
   "outputs": [
    {
     "data": {
      "text/plain": [
       "0               [tomhanks, timallen, donrickles]\n",
       "1    [robinwilliams, jonathanhyde, kirstendunst]\n",
       "Name: cast, dtype: object"
      ]
     },
     "execution_count": 36,
     "metadata": {},
     "output_type": "execute_result"
    }
   ],
   "source": [
    "df['cast'].head(2)"
   ]
  },
  {
   "cell_type": "code",
   "execution_count": 37,
   "metadata": {},
   "outputs": [
    {
     "data": {
      "text/plain": [
       "0    [johnlasseter, johnlasseter, johnlasseter]\n",
       "1       [joejohnston, joejohnston, joejohnston]\n",
       "Name: director, dtype: object"
      ]
     },
     "execution_count": 37,
     "metadata": {},
     "output_type": "execute_result"
    }
   ],
   "source": [
    "df['director'].head(2)"
   ]
  },
  {
   "cell_type": "code",
   "execution_count": 38,
   "metadata": {},
   "outputs": [
    {
     "data": {
      "text/plain": [
       "0     [Animation, Comedy, Family]\n",
       "1    [Adventure, Fantasy, Family]\n",
       "Name: genres, dtype: object"
      ]
     },
     "execution_count": 38,
     "metadata": {},
     "output_type": "execute_result"
    }
   ],
   "source": [
    "df['genres'].head(2)"
   ]
  },
  {
   "cell_type": "code",
   "execution_count": 39,
   "metadata": {},
   "outputs": [
    {
     "data": {
      "text/plain": [
       "0    [jealousi toy boy friendship friend rivalri bo...\n",
       "1    [board game disappear base children' book new ...\n",
       "Name: keywords, dtype: object"
      ]
     },
     "execution_count": 39,
     "metadata": {},
     "output_type": "execute_result"
    }
   ],
   "source": [
    "df['keywords'].head(2)"
   ]
  },
  {
   "cell_type": "code",
   "execution_count": 41,
   "metadata": {},
   "outputs": [
    {
     "data": {
      "text/plain": [
       "0    [jealousi toy boy friendship friend rivalri bo...\n",
       "1    [board game disappear base children' book new ...\n",
       "Name: cdgk_bag, dtype: object"
      ]
     },
     "execution_count": 41,
     "metadata": {},
     "output_type": "execute_result"
    }
   ],
   "source": [
    "# let's define the 'cdgk_bag' as \n",
    "df['cdgk_bag'] = df['keywords'] + df['cast'] + df['director'] + df['genres']\n",
    "df['cdgk_bag'].head(2)"
   ]
  },
  {
   "cell_type": "code",
   "execution_count": 43,
   "metadata": {},
   "outputs": [
    {
     "data": {
      "text/plain": [
       "0    jealousi toy boy friendship friend rivalri boy...\n",
       "1    board game disappear base children' book new h...\n",
       "Name: cdgk_bag, dtype: object"
      ]
     },
     "execution_count": 43,
     "metadata": {},
     "output_type": "execute_result"
    }
   ],
   "source": [
    "df['cdgk_bag'] = df['cdgk_bag'].apply(lambda x: ' '.join(x)) # we need to take out of the words from list\n",
    "df['cdgk_bag'].head(2)"
   ]
  },
  {
   "cell_type": "code",
   "execution_count": 44,
   "metadata": {},
   "outputs": [],
   "source": [
    "# Here will result MemoryError:  if we use the full dataset\n",
    "from sklearn.feature_extraction.text import CountVectorizer\n",
    "cv = CountVectorizer(analyzer='word',ngram_range=(1, 2),min_df=0, stop_words='english')\n",
    "count_matrix = cv.fit_transform(df['cdgk_bag'])"
   ]
  },
  {
   "cell_type": "code",
   "execution_count": 46,
   "metadata": {},
   "outputs": [],
   "source": [
    "from sklearn.metrics.pairwise import cosine_similarity\n",
    "cosine_sim = cosine_similarity(count_matrix, count_matrix)"
   ]
  },
  {
   "cell_type": "code",
   "execution_count": 47,
   "metadata": {},
   "outputs": [
    {
     "name": "stdout",
     "output_type": "stream",
     "text": [
      "(9219, 9219)\n",
      "[ 1.          0.03798001  0.04280585 ...,  0.          0.          0.        ]\n"
     ]
    }
   ],
   "source": [
    "print(cosine_sim.shape)\n",
    "print(cosine_sim[0])"
   ]
  },
  {
   "cell_type": "markdown",
   "metadata": {},
   "source": [
    "### Final Recommendation\n",
    "Now we get the similarity matrix, and we can use this matrix to recommend similar movies to the target movie."
   ]
  },
  {
   "cell_type": "code",
   "execution_count": 48,
   "metadata": {},
   "outputs": [
    {
     "data": {
      "text/plain": [
       "array([ 0.        ,  0.01481035,  0.        , ...,  0.0188545 ,\n",
       "        0.02962069,  0.        ])"
      ]
     },
     "execution_count": 48,
     "metadata": {},
     "output_type": "execute_result"
    }
   ],
   "source": [
    "df = df.reset_index() # reset index, very important, since the old index is from 0-4xxxx, we need to convert to 0-9xxx\n",
    "\n",
    "# Below we just test to see whether we can get correct cosine_sim[j] by idx j\n",
    "idx = df[df['title'] == 'The Dark Knight'].index.values[0] # there is only one value such that title is same\n",
    "cosine_sim[idx]"
   ]
  },
  {
   "cell_type": "code",
   "execution_count": 51,
   "metadata": {},
   "outputs": [],
   "source": [
    "# ssame method as before\n",
    "def get_recommendations(title):\n",
    "    idx = df[df['title'] == title].index.values[0]\n",
    "    #print(idx)\n",
    "    sim_scores = []\n",
    "    for index, score in enumerate(cosine_sim[idx]): # itearate the array(cosine_sim[idx]), to extract index and score as tuple, saved to list\n",
    "        sim_scores.append((index,score))\n",
    "    #sim_scores = list(enumerate(cosine_sim[idx])) same as above\n",
    "    sim_scores = sorted(sim_scores, key=lambda x: x[1], reverse=True) # sort a list of tuples by one index/column\n",
    "    top_sim_scores = sim_scores[1:11] # only get top 10\n",
    "    print('The similarity scores of top similar movies are: ',top_sim_scores)\n",
    "    top_movie_indices = [x[0] for x in top_sim_scores] # extract indexs of top similar movies as in the original df (same as in the array)\n",
    "    return df['title'].iloc[top_movie_indices]"
   ]
  },
  {
   "cell_type": "code",
   "execution_count": 52,
   "metadata": {},
   "outputs": [
    {
     "name": "stdout",
     "output_type": "stream",
     "text": [
      "The similarity scores of top similar movies are:  [(6218, 0.53783063827745781), (8031, 0.5264324633366726), (7659, 0.30897692791791959), (1134, 0.29480217946853654), (1260, 0.29421966330711236), (6623, 0.27893704369178529), (2085, 0.26108901389150202), (524, 0.26012757305655326), (2131, 0.24228545929153814), (4145, 0.24170073228323968)]\n"
     ]
    },
    {
     "data": {
      "text/plain": [
       "6218                 Batman Begins\n",
       "8031         The Dark Knight Rises\n",
       "7659    Batman: Under the Red Hood\n",
       "1134                Batman Returns\n",
       "1260                Batman & Robin\n",
       "6623                  The Prestige\n",
       "2085                     Following\n",
       "524                         Batman\n",
       "2131                      Superman\n",
       "4145                      Insomnia\n",
       "Name: title, dtype: object"
      ]
     },
     "execution_count": 52,
     "metadata": {},
     "output_type": "execute_result"
    }
   ],
   "source": [
    "# Let's get the top 10 movies similar to 'The Dark Knight'\n",
    "get_recommendations('The Dark Knight').head(10)"
   ]
  },
  {
   "cell_type": "code",
   "execution_count": null,
   "metadata": {},
   "outputs": [],
   "source": []
  },
  {
   "cell_type": "code",
   "execution_count": null,
   "metadata": {},
   "outputs": [],
   "source": []
  },
  {
   "cell_type": "code",
   "execution_count": null,
   "metadata": {},
   "outputs": [],
   "source": []
  },
  {
   "cell_type": "code",
   "execution_count": null,
   "metadata": {},
   "outputs": [],
   "source": []
  },
  {
   "cell_type": "code",
   "execution_count": null,
   "metadata": {},
   "outputs": [],
   "source": []
  },
  {
   "cell_type": "markdown",
   "metadata": {},
   "source": [
    "Reference: \n",
    "* http://blog.untrod.com/2016/06/simple-similar-products-recommendation-engine-in-python.html\n",
    "* https://medium.com/@tomar.ankur287/content-based-recommender-system-in-python-2e8e94b16b9e\n",
    "* https://www.kaggle.com/rounakbanik/movie-recommender-systems\n",
    "* https://www.kaggle.com/sohier/film-recommendation-engine-converted-to-use-tmdb"
   ]
  },
  {
   "cell_type": "code",
   "execution_count": null,
   "metadata": {},
   "outputs": [],
   "source": []
  }
 ],
 "metadata": {
  "kernelspec": {
   "display_name": "Python 3",
   "language": "python",
   "name": "python3"
  },
  "language_info": {
   "codemirror_mode": {
    "name": "ipython",
    "version": 3
   },
   "file_extension": ".py",
   "mimetype": "text/x-python",
   "name": "python",
   "nbconvert_exporter": "python",
   "pygments_lexer": "ipython3",
   "version": "3.5.4"
  }
 },
 "nbformat": 4,
 "nbformat_minor": 2
}
